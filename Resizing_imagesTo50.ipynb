{
  "nbformat": 4,
  "nbformat_minor": 0,
  "metadata": {
    "colab": {
      "provenance": [],
      "authorship_tag": "ABX9TyOirXdMrq8CJENFrw9yBE5u",
      "include_colab_link": true
    },
    "kernelspec": {
      "name": "python3",
      "display_name": "Python 3"
    },
    "language_info": {
      "name": "python"
    }
  },
  "cells": [
    {
      "cell_type": "markdown",
      "metadata": {
        "id": "view-in-github",
        "colab_type": "text"
      },
      "source": [
        "<a href=\"https://colab.research.google.com/github/KudratBatta/Image-Resize-to-50-/blob/main/Resizing_imagesTo50.ipynb\" target=\"_parent\"><img src=\"https://colab.research.google.com/assets/colab-badge.svg\" alt=\"Open In Colab\"/></a>"
      ]
    },
    {
      "cell_type": "code",
      "execution_count": 1,
      "metadata": {
        "colab": {
          "base_uri": "https://localhost:8080/"
        },
        "id": "n8fgt16l1j7p",
        "outputId": "e6814a17-9178-486f-fae3-aadbaf43250d"
      },
      "outputs": [
        {
          "output_type": "stream",
          "name": "stdout",
          "text": [
            "Requirement already satisfied: opencv-python in /usr/local/lib/python3.11/dist-packages (4.11.0.86)\n",
            "Requirement already satisfied: numpy>=1.21.2 in /usr/local/lib/python3.11/dist-packages (from opencv-python) (2.0.2)\n"
          ]
        }
      ],
      "source": [
        "! pip install opencv-python"
      ]
    },
    {
      "cell_type": "code",
      "source": [
        "import kagglehub\n",
        "import os\n",
        "# Download latest version\n",
        "path = kagglehub.dataset_download(\"prasunroy/natural-images\")\n",
        "\n",
        "print(\"Path to dataset files:\", path)"
      ],
      "metadata": {
        "colab": {
          "base_uri": "https://localhost:8080/"
        },
        "id": "mLGBvw8r1xWZ",
        "outputId": "b325f5b5-25a6-44be-b1a6-bbc0621be42e"
      },
      "execution_count": 2,
      "outputs": [
        {
          "output_type": "stream",
          "name": "stdout",
          "text": [
            "Path to dataset files: /kaggle/input/natural-images\n"
          ]
        }
      ]
    },
    {
      "cell_type": "code",
      "source": [
        "import shutil\n",
        "output='images'\n",
        "os.makedirs(output,exist_ok=True)\n",
        "img_exts=('.jpg','.png','jpeg')\n",
        "img_cnt=0\n",
        "for root,dirs,files in os.walk(path):\n",
        "  for file in files:\n",
        "    if file.lower().endswith(img_exts):\n",
        "      src_path=os.path.join(root,file)\n",
        "      dst_path=os.path.join(output,f\"{img_cnt:03d}_{file}\")\n",
        "      shutil.copy(src_path,dst_path)\n",
        "      img_cnt+=1\n",
        "      if img_cnt==100:\n",
        "        break\n",
        "  if img_cnt==100:\n",
        "        break"
      ],
      "metadata": {
        "id": "jjIU0Hzo1z_A"
      },
      "execution_count": 3,
      "outputs": []
    },
    {
      "cell_type": "code",
      "source": [
        "import os\n",
        "import cv2\n",
        "\n",
        "input_dir = '/content/images'\n",
        "resize = '/content/resize_images'\n",
        "os.makedirs(resize, exist_ok=True)\n",
        "\n",
        "for filename in os.listdir(input_dir):\n",
        "    file_path = os.path.join(input_dir, filename)\n",
        "\n",
        "    if filename.lower().endswith(('.png', '.jpg', '.jpeg')):\n",
        "        img = cv2.imread(file_path)\n",
        "        half = cv2.resize(img, (0, 0), fx = 0.1, fy = 0.1) #50% smaller\n",
        "\n",
        "        save_path = os.path.join(resize, filename)\n",
        "        cv2.imwrite(save_path, half)\n",
        "\n",
        "print(f\"Saved resized images to {resize}\")"
      ],
      "metadata": {
        "colab": {
          "base_uri": "https://localhost:8080/"
        },
        "id": "jX8ZyIYA10Hm",
        "outputId": "f57fbcb2-0d65-484d-ad69-8265b6423f9c"
      },
      "execution_count": 4,
      "outputs": [
        {
          "output_type": "stream",
          "name": "stdout",
          "text": [
            "Saved resized images to /content/resize_images\n"
          ]
        }
      ]
    }
  ]
}